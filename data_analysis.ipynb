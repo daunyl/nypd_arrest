{
 "cells": [
  {
   "cell_type": "markdown",
   "id": "5c36f348-a8c0-4682-bef9-fabfcbd691b4",
   "metadata": {},
   "source": [
    "# [NYPD Arrest Data (Year to Date)](https://data.cityofnewyork.us/Public-Safety/NYPD-Arrest-Data-Year-to-Date-/uip8-fykc)\n",
    "\n",
    "This project dataset contains information about crimes in **NYC** between `2023-01-01` and `2023-06-30`\n",
    "\n",
    "* This is a breakdown of every arrest effected in **NYC** by the **NYPD** during the current year.\n",
    "* This data is manually extracted every quarter and reviewed by the **Office of Management Analysis and Planning**.\n",
    "* Each record represents an arrest effected in **NYC** by the **NYPD** and includes information about the type of crime, the location and time of enforcement.\n",
    "* In addition, information related to suspect demographics is also included.\n",
    "\n",
    "### This data can be used by the public to explore the nature of police enforcement activity.\n",
    "\n",
    "Data Last Updated\n",
    "*July 14, 2023*\n",
    "\n",
    "Metadata Last Updated\n",
    "*July 14, 2023*"
   ]
  },
  {
   "cell_type": "markdown",
   "id": "192ec01a-2fb2-4501-8987-4560bcd74e30",
   "metadata": {},
   "source": [
    "**[Data Footnotes link](NYPD_Arrest_Incident_Level_Data_Footnotes.pdf)** or open `NYPD_Arrest_Incident_Level_Data_Footnotes.pdf` file"
   ]
  },
  {
   "cell_type": "markdown",
   "id": "6fb2b8d7-8f78-4259-aac1-b33dd2828820",
   "metadata": {},
   "source": [
    "## Questions to be explored\n",
    "* Question **1**: Which age group and gender has the most number of crimes?\n",
    "* Question **2**: What are the laws that are broken in most cases?\n",
    "* Question **3**: What are the most frequent crimes by borough?\n",
    "* Question **4**: What are the general trends in the reported crimes between `2023-01-01` and `2023-06-30` monthly?\n",
    "* Question **5**: On what days and months are a higher number of crimes reported and by who?\n",
    "\n",
    "## Analysis steps\n",
    "\n",
    "1. **Step 1:** Install + Import Necessary Libraries\n",
    "2. **Step 2:** Reading + Exploring Data\n",
    "3. **Step 3:** Data Cleaning + Preprocessing\n",
    "4. **Step 4:** Data Analysis + Visualization\n",
    "5. **NYPD Arrest Data Final Results**"
   ]
  },
  {
   "cell_type": "markdown",
   "id": "dd0ffdd6-79e1-4b98-b7d7-bc79c11871ff",
   "metadata": {},
   "source": [
    "## 1. Install + Import neccesary libraries"
   ]
  },
  {
   "cell_type": "code",
   "execution_count": 179,
   "id": "57e57a05-2938-4a9f-a892-ece4e451b23e",
   "metadata": {
    "tags": []
   },
   "outputs": [],
   "source": [
    "# !pip install pandas\n",
    "# !pip install numpy\n",
    "# !pip install matplotlib\n",
    "# !pip install seaborn\n",
    "# !pip install plotly\n",
    "# !pip install scipy\n",
    "# !pip install nbformat"
   ]
  },
  {
   "cell_type": "code",
   "execution_count": 3,
   "id": "ef13fe40-83ba-49f6-9794-d4541d7f2dc4",
   "metadata": {
    "tags": []
   },
   "outputs": [],
   "source": [
    "import pandas as pd\n",
    "import numpy as np\n",
    "import matplotlib.pyplot as plt\n",
    "import seaborn as sns\n",
    "import plotly.express as px\n",
    "from scipy import stats\n",
    "%matplotlib inline"
   ]
  },
  {
   "cell_type": "code",
   "execution_count": 4,
   "id": "2e043c52-9399-41eb-a0c6-36a451e4851f",
   "metadata": {
    "tags": []
   },
   "outputs": [],
   "source": [
    "import warnings\n",
    "warnings.simplefilter(action='ignore', category=FutureWarning)"
   ]
  },
  {
   "cell_type": "markdown",
   "id": "c00250b9-3e68-45f1-896d-bb2e6677dab4",
   "metadata": {},
   "source": [
    "## 2. Reading + Exploring Data"
   ]
  },
  {
   "cell_type": "code",
   "execution_count": 5,
   "id": "59dbcf77-6dae-405b-9766-09906122f03f",
   "metadata": {},
   "outputs": [
    {
     "data": {
      "text/html": [
       "<div>\n",
       "<style scoped>\n",
       "    .dataframe tbody tr th:only-of-type {\n",
       "        vertical-align: middle;\n",
       "    }\n",
       "\n",
       "    .dataframe tbody tr th {\n",
       "        vertical-align: top;\n",
       "    }\n",
       "\n",
       "    .dataframe thead th {\n",
       "        text-align: right;\n",
       "    }\n",
       "</style>\n",
       "<table border=\"1\" class=\"dataframe\">\n",
       "  <thead>\n",
       "    <tr style=\"text-align: right;\">\n",
       "      <th></th>\n",
       "      <th>ARREST_KEY</th>\n",
       "      <th>ARREST_DATE</th>\n",
       "      <th>PD_CD</th>\n",
       "      <th>PD_DESC</th>\n",
       "      <th>KY_CD</th>\n",
       "      <th>OFNS_DESC</th>\n",
       "      <th>LAW_CODE</th>\n",
       "      <th>LAW_CAT_CD</th>\n",
       "      <th>ARREST_BORO</th>\n",
       "      <th>ARREST_PRECINCT</th>\n",
       "      <th>JURISDICTION_CODE</th>\n",
       "      <th>AGE_GROUP</th>\n",
       "      <th>PERP_SEX</th>\n",
       "      <th>PERP_RACE</th>\n",
       "      <th>X_COORD_CD</th>\n",
       "      <th>Y_COORD_CD</th>\n",
       "      <th>Latitude</th>\n",
       "      <th>Longitude</th>\n",
       "      <th>New Georeferenced Column</th>\n",
       "    </tr>\n",
       "  </thead>\n",
       "  <tbody>\n",
       "    <tr>\n",
       "      <th>0</th>\n",
       "      <td>261249590</td>\n",
       "      <td>01/02/2023</td>\n",
       "      <td>339.0</td>\n",
       "      <td>LARCENY,PETIT FROM OPEN AREAS,</td>\n",
       "      <td>341.0</td>\n",
       "      <td>PETIT LARCENY</td>\n",
       "      <td>PL 1552500</td>\n",
       "      <td>M</td>\n",
       "      <td>M</td>\n",
       "      <td>6</td>\n",
       "      <td>0</td>\n",
       "      <td>25-44</td>\n",
       "      <td>M</td>\n",
       "      <td>BLACK</td>\n",
       "      <td>982745</td>\n",
       "      <td>206647</td>\n",
       "      <td>40.733876</td>\n",
       "      <td>-74.005428</td>\n",
       "      <td>POINT (-74.005428 40.733876)</td>\n",
       "    </tr>\n",
       "    <tr>\n",
       "      <th>1</th>\n",
       "      <td>261271301</td>\n",
       "      <td>01/03/2023</td>\n",
       "      <td>105.0</td>\n",
       "      <td>STRANGULATION 1ST</td>\n",
       "      <td>106.0</td>\n",
       "      <td>FELONY ASSAULT</td>\n",
       "      <td>PL 1211200</td>\n",
       "      <td>F</td>\n",
       "      <td>S</td>\n",
       "      <td>120</td>\n",
       "      <td>0</td>\n",
       "      <td>25-44</td>\n",
       "      <td>M</td>\n",
       "      <td>WHITE</td>\n",
       "      <td>962808</td>\n",
       "      <td>174275</td>\n",
       "      <td>40.644996</td>\n",
       "      <td>-74.077263</td>\n",
       "      <td>POINT (-74.077263 40.644996)</td>\n",
       "    </tr>\n",
       "    <tr>\n",
       "      <th>2</th>\n",
       "      <td>262235280</td>\n",
       "      <td>01/20/2023</td>\n",
       "      <td>109.0</td>\n",
       "      <td>ASSAULT 2,1,UNCLASSIFIED</td>\n",
       "      <td>106.0</td>\n",
       "      <td>FELONY ASSAULT</td>\n",
       "      <td>PL 1200501</td>\n",
       "      <td>F</td>\n",
       "      <td>K</td>\n",
       "      <td>62</td>\n",
       "      <td>0</td>\n",
       "      <td>45-64</td>\n",
       "      <td>M</td>\n",
       "      <td>WHITE</td>\n",
       "      <td>983289</td>\n",
       "      <td>158770</td>\n",
       "      <td>40.602464</td>\n",
       "      <td>-74.003460</td>\n",
       "      <td>POINT (-74.00346 40.602464)</td>\n",
       "    </tr>\n",
       "    <tr>\n",
       "      <th>3</th>\n",
       "      <td>264404265</td>\n",
       "      <td>03/01/2023</td>\n",
       "      <td>101.0</td>\n",
       "      <td>ASSAULT 3</td>\n",
       "      <td>344.0</td>\n",
       "      <td>ASSAULT 3 &amp; RELATED OFFENSES</td>\n",
       "      <td>PL 1200001</td>\n",
       "      <td>M</td>\n",
       "      <td>S</td>\n",
       "      <td>120</td>\n",
       "      <td>0</td>\n",
       "      <td>&lt;18</td>\n",
       "      <td>F</td>\n",
       "      <td>BLACK</td>\n",
       "      <td>958743</td>\n",
       "      <td>173302</td>\n",
       "      <td>40.642316</td>\n",
       "      <td>-74.091908</td>\n",
       "      <td>POINT (-74.091908 40.642316)</td>\n",
       "    </tr>\n",
       "    <tr>\n",
       "      <th>4</th>\n",
       "      <td>264443630</td>\n",
       "      <td>03/02/2023</td>\n",
       "      <td>808.0</td>\n",
       "      <td>TAX LAW</td>\n",
       "      <td>125.0</td>\n",
       "      <td>OTHER STATE LAWS (NON PENAL LA</td>\n",
       "      <td>TAX181400A</td>\n",
       "      <td>F</td>\n",
       "      <td>K</td>\n",
       "      <td>83</td>\n",
       "      <td>0</td>\n",
       "      <td>25-44</td>\n",
       "      <td>F</td>\n",
       "      <td>WHITE</td>\n",
       "      <td>1006097</td>\n",
       "      <td>195371</td>\n",
       "      <td>40.702901</td>\n",
       "      <td>-73.921203</td>\n",
       "      <td>POINT (-73.921203 40.702901)</td>\n",
       "    </tr>\n",
       "  </tbody>\n",
       "</table>\n",
       "</div>"
      ],
      "text/plain": [
       "   ARREST_KEY ARREST_DATE  PD_CD                         PD_DESC  KY_CD  \\\n",
       "0   261249590  01/02/2023  339.0  LARCENY,PETIT FROM OPEN AREAS,  341.0   \n",
       "1   261271301  01/03/2023  105.0               STRANGULATION 1ST  106.0   \n",
       "2   262235280  01/20/2023  109.0        ASSAULT 2,1,UNCLASSIFIED  106.0   \n",
       "3   264404265  03/01/2023  101.0                       ASSAULT 3  344.0   \n",
       "4   264443630  03/02/2023  808.0                         TAX LAW  125.0   \n",
       "\n",
       "                        OFNS_DESC    LAW_CODE LAW_CAT_CD ARREST_BORO  \\\n",
       "0                   PETIT LARCENY  PL 1552500          M           M   \n",
       "1                  FELONY ASSAULT  PL 1211200          F           S   \n",
       "2                  FELONY ASSAULT  PL 1200501          F           K   \n",
       "3    ASSAULT 3 & RELATED OFFENSES  PL 1200001          M           S   \n",
       "4  OTHER STATE LAWS (NON PENAL LA  TAX181400A          F           K   \n",
       "\n",
       "   ARREST_PRECINCT  JURISDICTION_CODE AGE_GROUP PERP_SEX PERP_RACE  \\\n",
       "0                6                  0     25-44        M     BLACK   \n",
       "1              120                  0     25-44        M     WHITE   \n",
       "2               62                  0     45-64        M     WHITE   \n",
       "3              120                  0       <18        F     BLACK   \n",
       "4               83                  0     25-44        F     WHITE   \n",
       "\n",
       "   X_COORD_CD  Y_COORD_CD   Latitude  Longitude      New Georeferenced Column  \n",
       "0      982745      206647  40.733876 -74.005428  POINT (-74.005428 40.733876)  \n",
       "1      962808      174275  40.644996 -74.077263  POINT (-74.077263 40.644996)  \n",
       "2      983289      158770  40.602464 -74.003460   POINT (-74.00346 40.602464)  \n",
       "3      958743      173302  40.642316 -74.091908  POINT (-74.091908 40.642316)  \n",
       "4     1006097      195371  40.702901 -73.921203  POINT (-73.921203 40.702901)  "
      ]
     },
     "execution_count": 5,
     "metadata": {},
     "output_type": "execute_result"
    }
   ],
   "source": [
    "data = pd.read_csv('NYPD_Arrest_Data__Year_to_Date_.csv')\n",
    "\n",
    "data.head()"
   ]
  },
  {
   "cell_type": "code",
   "execution_count": 6,
   "id": "b0443bf2-ecfe-4f90-b3d0-f8c58c2b347c",
   "metadata": {
    "tags": []
   },
   "outputs": [
    {
     "data": {
      "text/plain": [
       "(112571, 19)"
      ]
     },
     "execution_count": 6,
     "metadata": {},
     "output_type": "execute_result"
    }
   ],
   "source": [
    "data.shape"
   ]
  },
  {
   "cell_type": "code",
   "execution_count": 7,
   "id": "fa62f8f2-1345-4b3b-af4a-27900b79f507",
   "metadata": {},
   "outputs": [
    {
     "name": "stdout",
     "output_type": "stream",
     "text": [
      "<class 'pandas.core.frame.DataFrame'>\n",
      "RangeIndex: 112571 entries, 0 to 112570\n",
      "Data columns (total 19 columns):\n",
      " #   Column                    Non-Null Count   Dtype  \n",
      "---  ------                    --------------   -----  \n",
      " 0   ARREST_KEY                112571 non-null  int64  \n",
      " 1   ARREST_DATE               112571 non-null  object \n",
      " 2   PD_CD                     112110 non-null  float64\n",
      " 3   PD_DESC                   112571 non-null  object \n",
      " 4   KY_CD                     112105 non-null  float64\n",
      " 5   OFNS_DESC                 112571 non-null  object \n",
      " 6   LAW_CODE                  112571 non-null  object \n",
      " 7   LAW_CAT_CD                111725 non-null  object \n",
      " 8   ARREST_BORO               112571 non-null  object \n",
      " 9   ARREST_PRECINCT           112571 non-null  int64  \n",
      " 10  JURISDICTION_CODE         112571 non-null  int64  \n",
      " 11  AGE_GROUP                 112571 non-null  object \n",
      " 12  PERP_SEX                  112571 non-null  object \n",
      " 13  PERP_RACE                 112571 non-null  object \n",
      " 14  X_COORD_CD                112571 non-null  int64  \n",
      " 15  Y_COORD_CD                112571 non-null  int64  \n",
      " 16  Latitude                  112571 non-null  float64\n",
      " 17  Longitude                 112571 non-null  float64\n",
      " 18  New Georeferenced Column  112571 non-null  object \n",
      "dtypes: float64(4), int64(5), object(10)\n",
      "memory usage: 16.3+ MB\n"
     ]
    }
   ],
   "source": [
    "data.info()"
   ]
  },
  {
   "cell_type": "markdown",
   "id": "95abce6e-595d-4fc6-ba10-ac31a018a9e6",
   "metadata": {},
   "source": [
    "## 3. Data Cleaning + Preprocessing"
   ]
  },
  {
   "cell_type": "code",
   "execution_count": 8,
   "id": "a27ff1d3-1807-4bc5-8d14-e41069cbfc44",
   "metadata": {
    "tags": []
   },
   "outputs": [
    {
     "data": {
      "text/plain": [
       "Index(['ARREST_KEY', 'ARREST_DATE', 'PD_CD', 'PD_DESC', 'KY_CD', 'OFNS_DESC',\n",
       "       'LAW_CODE', 'LAW_CAT_CD', 'ARREST_BORO', 'ARREST_PRECINCT',\n",
       "       'JURISDICTION_CODE', 'AGE_GROUP', 'PERP_SEX', 'PERP_RACE', 'X_COORD_CD',\n",
       "       'Y_COORD_CD', 'Latitude', 'Longitude', 'New Georeferenced Column'],\n",
       "      dtype='object')"
      ]
     },
     "execution_count": 8,
     "metadata": {},
     "output_type": "execute_result"
    }
   ],
   "source": [
    "data.columns"
   ]
  },
  {
   "cell_type": "markdown",
   "id": "f4eb0530-67d7-4757-b572-ea466e25415a",
   "metadata": {},
   "source": [
    "### 3.1 Column names to lower case"
   ]
  },
  {
   "cell_type": "code",
   "execution_count": 9,
   "id": "b4f44568-0f4a-4b44-982d-31a19e46b4a3",
   "metadata": {
    "tags": []
   },
   "outputs": [],
   "source": [
    "data.columns = [col.lower() for col in data.columns]"
   ]
  },
  {
   "cell_type": "markdown",
   "id": "b8199cae-3835-40d4-9eff-2cfd0ebdb661",
   "metadata": {},
   "source": [
    "### 3.2 Checking for null values"
   ]
  },
  {
   "cell_type": "code",
   "execution_count": 10,
   "id": "b24a9cc2-114e-43f4-a0ee-06950923db90",
   "metadata": {},
   "outputs": [
    {
     "data": {
      "text/plain": [
       "arrest_key                    0\n",
       "arrest_date                   0\n",
       "pd_cd                       461\n",
       "pd_desc                       0\n",
       "ky_cd                       466\n",
       "ofns_desc                     0\n",
       "law_code                      0\n",
       "law_cat_cd                  846\n",
       "arrest_boro                   0\n",
       "arrest_precinct               0\n",
       "jurisdiction_code             0\n",
       "age_group                     0\n",
       "perp_sex                      0\n",
       "perp_race                     0\n",
       "x_coord_cd                    0\n",
       "y_coord_cd                    0\n",
       "latitude                      0\n",
       "longitude                     0\n",
       "new georeferenced column      0\n",
       "dtype: int64"
      ]
     },
     "execution_count": 10,
     "metadata": {},
     "output_type": "execute_result"
    }
   ],
   "source": [
    "data.isna().sum()"
   ]
  },
  {
   "cell_type": "code",
   "execution_count": 11,
   "id": "4e606116-16e3-4fe6-9133-1181762ee28a",
   "metadata": {
    "tags": []
   },
   "outputs": [
    {
     "data": {
      "text/plain": [
       "1.165486670634536"
      ]
     },
     "execution_count": 11,
     "metadata": {},
     "output_type": "execute_result"
    }
   ],
   "source": [
    "100 - len(data.dropna())/len(data)*100"
   ]
  },
  {
   "cell_type": "code",
   "execution_count": 12,
   "id": "95fcb1ff-cf32-47a3-867e-9226455fd175",
   "metadata": {
    "tags": []
   },
   "outputs": [
    {
     "data": {
      "text/html": [
       "<div>\n",
       "<style scoped>\n",
       "    .dataframe tbody tr th:only-of-type {\n",
       "        vertical-align: middle;\n",
       "    }\n",
       "\n",
       "    .dataframe tbody tr th {\n",
       "        vertical-align: top;\n",
       "    }\n",
       "\n",
       "    .dataframe thead th {\n",
       "        text-align: right;\n",
       "    }\n",
       "</style>\n",
       "<table border=\"1\" class=\"dataframe\">\n",
       "  <thead>\n",
       "    <tr style=\"text-align: right;\">\n",
       "      <th></th>\n",
       "      <th>arrest_key</th>\n",
       "      <th>arrest_date</th>\n",
       "      <th>pd_cd</th>\n",
       "      <th>pd_desc</th>\n",
       "      <th>ky_cd</th>\n",
       "      <th>ofns_desc</th>\n",
       "      <th>law_code</th>\n",
       "      <th>law_cat_cd</th>\n",
       "      <th>arrest_boro</th>\n",
       "      <th>arrest_precinct</th>\n",
       "      <th>jurisdiction_code</th>\n",
       "      <th>age_group</th>\n",
       "      <th>perp_sex</th>\n",
       "      <th>perp_race</th>\n",
       "      <th>x_coord_cd</th>\n",
       "      <th>y_coord_cd</th>\n",
       "      <th>latitude</th>\n",
       "      <th>longitude</th>\n",
       "      <th>new georeferenced column</th>\n",
       "    </tr>\n",
       "  </thead>\n",
       "  <tbody>\n",
       "    <tr>\n",
       "      <th>7</th>\n",
       "      <td>266141086</td>\n",
       "      <td>04/04/2023</td>\n",
       "      <td>NaN</td>\n",
       "      <td>(null)</td>\n",
       "      <td>NaN</td>\n",
       "      <td>(null)</td>\n",
       "      <td>PL 215401B</td>\n",
       "      <td>F</td>\n",
       "      <td>S</td>\n",
       "      <td>120</td>\n",
       "      <td>0</td>\n",
       "      <td>25-44</td>\n",
       "      <td>M</td>\n",
       "      <td>BLACK</td>\n",
       "      <td>962808</td>\n",
       "      <td>174275</td>\n",
       "      <td>40.644996</td>\n",
       "      <td>-74.077263</td>\n",
       "      <td>POINT (-74.077263 40.644996)</td>\n",
       "    </tr>\n",
       "    <tr>\n",
       "      <th>20</th>\n",
       "      <td>264241054</td>\n",
       "      <td>02/26/2023</td>\n",
       "      <td>NaN</td>\n",
       "      <td>(null)</td>\n",
       "      <td>NaN</td>\n",
       "      <td>(null)</td>\n",
       "      <td>PL 2410200</td>\n",
       "      <td>M</td>\n",
       "      <td>M</td>\n",
       "      <td>30</td>\n",
       "      <td>0</td>\n",
       "      <td>25-44</td>\n",
       "      <td>M</td>\n",
       "      <td>BLACK HISPANIC</td>\n",
       "      <td>1000365</td>\n",
       "      <td>240994</td>\n",
       "      <td>40.828135</td>\n",
       "      <td>-73.941769</td>\n",
       "      <td>POINT (-73.941769 40.828135)</td>\n",
       "    </tr>\n",
       "    <tr>\n",
       "      <th>25</th>\n",
       "      <td>265639259</td>\n",
       "      <td>03/25/2023</td>\n",
       "      <td>NaN</td>\n",
       "      <td>(null)</td>\n",
       "      <td>NaN</td>\n",
       "      <td>(null)</td>\n",
       "      <td>CPL5700600</td>\n",
       "      <td>9</td>\n",
       "      <td>Q</td>\n",
       "      <td>102</td>\n",
       "      <td>0</td>\n",
       "      <td>45-64</td>\n",
       "      <td>M</td>\n",
       "      <td>BLACK</td>\n",
       "      <td>1032501</td>\n",
       "      <td>198800</td>\n",
       "      <td>40.712206</td>\n",
       "      <td>-73.825952</td>\n",
       "      <td>POINT (-73.825952 40.712206)</td>\n",
       "    </tr>\n",
       "    <tr>\n",
       "      <th>30</th>\n",
       "      <td>267009678</td>\n",
       "      <td>04/20/2023</td>\n",
       "      <td>NaN</td>\n",
       "      <td>(null)</td>\n",
       "      <td>NaN</td>\n",
       "      <td>(null)</td>\n",
       "      <td>CPL5700600</td>\n",
       "      <td>9</td>\n",
       "      <td>Q</td>\n",
       "      <td>102</td>\n",
       "      <td>0</td>\n",
       "      <td>25-44</td>\n",
       "      <td>M</td>\n",
       "      <td>BLACK</td>\n",
       "      <td>1032501</td>\n",
       "      <td>198800</td>\n",
       "      <td>40.712206</td>\n",
       "      <td>-73.825952</td>\n",
       "      <td>POINT (-73.825952 40.712206)</td>\n",
       "    </tr>\n",
       "    <tr>\n",
       "      <th>38</th>\n",
       "      <td>261754494</td>\n",
       "      <td>01/12/2023</td>\n",
       "      <td>NaN</td>\n",
       "      <td>(null)</td>\n",
       "      <td>NaN</td>\n",
       "      <td>(null)</td>\n",
       "      <td>CPL5700600</td>\n",
       "      <td>9</td>\n",
       "      <td>Q</td>\n",
       "      <td>109</td>\n",
       "      <td>0</td>\n",
       "      <td>25-44</td>\n",
       "      <td>M</td>\n",
       "      <td>BLACK</td>\n",
       "      <td>1032084</td>\n",
       "      <td>216954</td>\n",
       "      <td>40.762037</td>\n",
       "      <td>-73.827328</td>\n",
       "      <td>POINT (-73.827328 40.762037)</td>\n",
       "    </tr>\n",
       "  </tbody>\n",
       "</table>\n",
       "</div>"
      ],
      "text/plain": [
       "    arrest_key arrest_date  pd_cd pd_desc  ky_cd ofns_desc    law_code  \\\n",
       "7    266141086  04/04/2023    NaN  (null)    NaN    (null)  PL 215401B   \n",
       "20   264241054  02/26/2023    NaN  (null)    NaN    (null)  PL 2410200   \n",
       "25   265639259  03/25/2023    NaN  (null)    NaN    (null)  CPL5700600   \n",
       "30   267009678  04/20/2023    NaN  (null)    NaN    (null)  CPL5700600   \n",
       "38   261754494  01/12/2023    NaN  (null)    NaN    (null)  CPL5700600   \n",
       "\n",
       "   law_cat_cd arrest_boro  arrest_precinct  jurisdiction_code age_group  \\\n",
       "7           F           S              120                  0     25-44   \n",
       "20          M           M               30                  0     25-44   \n",
       "25          9           Q              102                  0     45-64   \n",
       "30          9           Q              102                  0     25-44   \n",
       "38          9           Q              109                  0     25-44   \n",
       "\n",
       "   perp_sex       perp_race  x_coord_cd  y_coord_cd   latitude  longitude  \\\n",
       "7         M           BLACK      962808      174275  40.644996 -74.077263   \n",
       "20        M  BLACK HISPANIC     1000365      240994  40.828135 -73.941769   \n",
       "25        M           BLACK     1032501      198800  40.712206 -73.825952   \n",
       "30        M           BLACK     1032501      198800  40.712206 -73.825952   \n",
       "38        M           BLACK     1032084      216954  40.762037 -73.827328   \n",
       "\n",
       "        new georeferenced column  \n",
       "7   POINT (-74.077263 40.644996)  \n",
       "20  POINT (-73.941769 40.828135)  \n",
       "25  POINT (-73.825952 40.712206)  \n",
       "30  POINT (-73.825952 40.712206)  \n",
       "38  POINT (-73.827328 40.762037)  "
      ]
     },
     "execution_count": 12,
     "metadata": {},
     "output_type": "execute_result"
    }
   ],
   "source": [
    "data[data['pd_cd'].isna()].head()"
   ]
  },
  {
   "cell_type": "code",
   "execution_count": 13,
   "id": "cab8e559-30cb-40a1-acd8-538a2c9517e5",
   "metadata": {
    "tags": []
   },
   "outputs": [
    {
     "data": {
      "text/html": [
       "<div>\n",
       "<style scoped>\n",
       "    .dataframe tbody tr th:only-of-type {\n",
       "        vertical-align: middle;\n",
       "    }\n",
       "\n",
       "    .dataframe tbody tr th {\n",
       "        vertical-align: top;\n",
       "    }\n",
       "\n",
       "    .dataframe thead th {\n",
       "        text-align: right;\n",
       "    }\n",
       "</style>\n",
       "<table border=\"1\" class=\"dataframe\">\n",
       "  <thead>\n",
       "    <tr style=\"text-align: right;\">\n",
       "      <th></th>\n",
       "      <th>arrest_key</th>\n",
       "      <th>arrest_date</th>\n",
       "      <th>pd_cd</th>\n",
       "      <th>pd_desc</th>\n",
       "      <th>ky_cd</th>\n",
       "      <th>ofns_desc</th>\n",
       "      <th>law_code</th>\n",
       "      <th>law_cat_cd</th>\n",
       "      <th>arrest_boro</th>\n",
       "      <th>arrest_precinct</th>\n",
       "      <th>jurisdiction_code</th>\n",
       "      <th>age_group</th>\n",
       "      <th>perp_sex</th>\n",
       "      <th>perp_race</th>\n",
       "      <th>x_coord_cd</th>\n",
       "      <th>y_coord_cd</th>\n",
       "      <th>latitude</th>\n",
       "      <th>longitude</th>\n",
       "      <th>new georeferenced column</th>\n",
       "    </tr>\n",
       "  </thead>\n",
       "  <tbody>\n",
       "    <tr>\n",
       "      <th>351</th>\n",
       "      <td>267292714</td>\n",
       "      <td>04/26/2023</td>\n",
       "      <td>49.0</td>\n",
       "      <td>U.S. CODE UNCLASSIFIED</td>\n",
       "      <td>995.0</td>\n",
       "      <td>FOR OTHER AUTHORITIES</td>\n",
       "      <td>FOA9000049</td>\n",
       "      <td>NaN</td>\n",
       "      <td>K</td>\n",
       "      <td>84</td>\n",
       "      <td>0</td>\n",
       "      <td>25-44</td>\n",
       "      <td>M</td>\n",
       "      <td>WHITE HISPANIC</td>\n",
       "      <td>987041</td>\n",
       "      <td>193534</td>\n",
       "      <td>40.697883</td>\n",
       "      <td>-73.989934</td>\n",
       "      <td>POINT (-73.989934 40.697883)</td>\n",
       "    </tr>\n",
       "    <tr>\n",
       "      <th>689</th>\n",
       "      <td>264675475</td>\n",
       "      <td>03/07/2023</td>\n",
       "      <td>49.0</td>\n",
       "      <td>U.S. CODE UNCLASSIFIED</td>\n",
       "      <td>995.0</td>\n",
       "      <td>FOR OTHER AUTHORITIES</td>\n",
       "      <td>FOA9000049</td>\n",
       "      <td>NaN</td>\n",
       "      <td>B</td>\n",
       "      <td>49</td>\n",
       "      <td>0</td>\n",
       "      <td>18-24</td>\n",
       "      <td>M</td>\n",
       "      <td>BLACK HISPANIC</td>\n",
       "      <td>1028978</td>\n",
       "      <td>246342</td>\n",
       "      <td>40.842714</td>\n",
       "      <td>-73.838342</td>\n",
       "      <td>POINT (-73.838342 40.842714)</td>\n",
       "    </tr>\n",
       "    <tr>\n",
       "      <th>931</th>\n",
       "      <td>261717586</td>\n",
       "      <td>01/11/2023</td>\n",
       "      <td>16.0</td>\n",
       "      <td>FUGITIVE/OTHER STATES</td>\n",
       "      <td>995.0</td>\n",
       "      <td>FOR OTHER AUTHORITIES</td>\n",
       "      <td>FOA9000016</td>\n",
       "      <td>NaN</td>\n",
       "      <td>K</td>\n",
       "      <td>84</td>\n",
       "      <td>0</td>\n",
       "      <td>25-44</td>\n",
       "      <td>M</td>\n",
       "      <td>UNKNOWN</td>\n",
       "      <td>988897</td>\n",
       "      <td>192631</td>\n",
       "      <td>40.695404</td>\n",
       "      <td>-73.983239</td>\n",
       "      <td>POINT (-73.983239 40.695404)</td>\n",
       "    </tr>\n",
       "    <tr>\n",
       "      <th>1019</th>\n",
       "      <td>261285670</td>\n",
       "      <td>01/03/2023</td>\n",
       "      <td>49.0</td>\n",
       "      <td>U.S. CODE UNCLASSIFIED</td>\n",
       "      <td>995.0</td>\n",
       "      <td>FOR OTHER AUTHORITIES</td>\n",
       "      <td>FOA9000049</td>\n",
       "      <td>NaN</td>\n",
       "      <td>B</td>\n",
       "      <td>49</td>\n",
       "      <td>0</td>\n",
       "      <td>25-44</td>\n",
       "      <td>M</td>\n",
       "      <td>BLACK</td>\n",
       "      <td>1028978</td>\n",
       "      <td>246342</td>\n",
       "      <td>40.842714</td>\n",
       "      <td>-73.838342</td>\n",
       "      <td>POINT (-73.838342 40.842714)</td>\n",
       "    </tr>\n",
       "    <tr>\n",
       "      <th>1032</th>\n",
       "      <td>261368278</td>\n",
       "      <td>01/04/2023</td>\n",
       "      <td>49.0</td>\n",
       "      <td>U.S. CODE UNCLASSIFIED</td>\n",
       "      <td>995.0</td>\n",
       "      <td>FOR OTHER AUTHORITIES</td>\n",
       "      <td>FOA9000049</td>\n",
       "      <td>NaN</td>\n",
       "      <td>M</td>\n",
       "      <td>25</td>\n",
       "      <td>0</td>\n",
       "      <td>25-44</td>\n",
       "      <td>M</td>\n",
       "      <td>BLACK</td>\n",
       "      <td>1001738</td>\n",
       "      <td>233162</td>\n",
       "      <td>40.806635</td>\n",
       "      <td>-73.936826</td>\n",
       "      <td>POINT (-73.936826 40.806635)</td>\n",
       "    </tr>\n",
       "  </tbody>\n",
       "</table>\n",
       "</div>"
      ],
      "text/plain": [
       "      arrest_key arrest_date  pd_cd                 pd_desc  ky_cd  \\\n",
       "351    267292714  04/26/2023   49.0  U.S. CODE UNCLASSIFIED  995.0   \n",
       "689    264675475  03/07/2023   49.0  U.S. CODE UNCLASSIFIED  995.0   \n",
       "931    261717586  01/11/2023   16.0   FUGITIVE/OTHER STATES  995.0   \n",
       "1019   261285670  01/03/2023   49.0  U.S. CODE UNCLASSIFIED  995.0   \n",
       "1032   261368278  01/04/2023   49.0  U.S. CODE UNCLASSIFIED  995.0   \n",
       "\n",
       "                  ofns_desc    law_code law_cat_cd arrest_boro  \\\n",
       "351   FOR OTHER AUTHORITIES  FOA9000049        NaN           K   \n",
       "689   FOR OTHER AUTHORITIES  FOA9000049        NaN           B   \n",
       "931   FOR OTHER AUTHORITIES  FOA9000016        NaN           K   \n",
       "1019  FOR OTHER AUTHORITIES  FOA9000049        NaN           B   \n",
       "1032  FOR OTHER AUTHORITIES  FOA9000049        NaN           M   \n",
       "\n",
       "      arrest_precinct  jurisdiction_code age_group perp_sex       perp_race  \\\n",
       "351                84                  0     25-44        M  WHITE HISPANIC   \n",
       "689                49                  0     18-24        M  BLACK HISPANIC   \n",
       "931                84                  0     25-44        M         UNKNOWN   \n",
       "1019               49                  0     25-44        M           BLACK   \n",
       "1032               25                  0     25-44        M           BLACK   \n",
       "\n",
       "      x_coord_cd  y_coord_cd   latitude  longitude  \\\n",
       "351       987041      193534  40.697883 -73.989934   \n",
       "689      1028978      246342  40.842714 -73.838342   \n",
       "931       988897      192631  40.695404 -73.983239   \n",
       "1019     1028978      246342  40.842714 -73.838342   \n",
       "1032     1001738      233162  40.806635 -73.936826   \n",
       "\n",
       "          new georeferenced column  \n",
       "351   POINT (-73.989934 40.697883)  \n",
       "689   POINT (-73.838342 40.842714)  \n",
       "931   POINT (-73.983239 40.695404)  \n",
       "1019  POINT (-73.838342 40.842714)  \n",
       "1032  POINT (-73.936826 40.806635)  "
      ]
     },
     "execution_count": 13,
     "metadata": {},
     "output_type": "execute_result"
    }
   ],
   "source": [
    "data[data['law_cat_cd'].isna()].head()"
   ]
  },
  {
   "cell_type": "code",
   "execution_count": 14,
   "id": "ab02da28-0e4b-4b06-a854-ab966fd41836",
   "metadata": {
    "tags": []
   },
   "outputs": [],
   "source": [
    "# data[data['law_code'] == 'FOA9000049']['law_cat_cd'].value_counts()\n",
    "# data[data['ofns_desc'] == 'FOR OTHER AUTHORITIES']['law_cat_cd'].value_counts()"
   ]
  },
  {
   "cell_type": "markdown",
   "id": "c1e4be0b-a454-4a42-a9a9-2efb1c7fa205",
   "metadata": {},
   "source": [
    "**As a result**\n",
    "\n",
    "Just `1.17 %` of data is missing. This data **cannot be restored**. It means the only possible way - is to **remove this missing data.**"
   ]
  },
  {
   "cell_type": "code",
   "execution_count": 15,
   "id": "a1619199-2e41-49a2-bc2f-41ec2725ecfb",
   "metadata": {
    "tags": []
   },
   "outputs": [],
   "source": [
    "data = data.dropna()"
   ]
  },
  {
   "cell_type": "markdown",
   "id": "9e24e132-39e7-40d0-989e-4083b7062b37",
   "metadata": {},
   "source": [
    "### 3.3 Converting datatypes to required format"
   ]
  },
  {
   "cell_type": "code",
   "execution_count": 16,
   "id": "2517fb7b-f984-49f7-9daa-726c0d21f4db",
   "metadata": {
    "tags": []
   },
   "outputs": [
    {
     "data": {
      "text/html": [
       "<div>\n",
       "<style scoped>\n",
       "    .dataframe tbody tr th:only-of-type {\n",
       "        vertical-align: middle;\n",
       "    }\n",
       "\n",
       "    .dataframe tbody tr th {\n",
       "        vertical-align: top;\n",
       "    }\n",
       "\n",
       "    .dataframe thead th {\n",
       "        text-align: right;\n",
       "    }\n",
       "</style>\n",
       "<table border=\"1\" class=\"dataframe\">\n",
       "  <thead>\n",
       "    <tr style=\"text-align: right;\">\n",
       "      <th></th>\n",
       "      <th>Datatype</th>\n",
       "    </tr>\n",
       "    <tr>\n",
       "      <th>Columns</th>\n",
       "      <th></th>\n",
       "    </tr>\n",
       "  </thead>\n",
       "  <tbody>\n",
       "    <tr>\n",
       "      <th>arrest_key</th>\n",
       "      <td>int64</td>\n",
       "    </tr>\n",
       "    <tr>\n",
       "      <th>arrest_date</th>\n",
       "      <td>object</td>\n",
       "    </tr>\n",
       "    <tr>\n",
       "      <th>pd_cd</th>\n",
       "      <td>float64</td>\n",
       "    </tr>\n",
       "    <tr>\n",
       "      <th>pd_desc</th>\n",
       "      <td>object</td>\n",
       "    </tr>\n",
       "    <tr>\n",
       "      <th>ky_cd</th>\n",
       "      <td>float64</td>\n",
       "    </tr>\n",
       "    <tr>\n",
       "      <th>ofns_desc</th>\n",
       "      <td>object</td>\n",
       "    </tr>\n",
       "    <tr>\n",
       "      <th>law_code</th>\n",
       "      <td>object</td>\n",
       "    </tr>\n",
       "    <tr>\n",
       "      <th>law_cat_cd</th>\n",
       "      <td>object</td>\n",
       "    </tr>\n",
       "    <tr>\n",
       "      <th>arrest_boro</th>\n",
       "      <td>object</td>\n",
       "    </tr>\n",
       "    <tr>\n",
       "      <th>arrest_precinct</th>\n",
       "      <td>int64</td>\n",
       "    </tr>\n",
       "    <tr>\n",
       "      <th>jurisdiction_code</th>\n",
       "      <td>int64</td>\n",
       "    </tr>\n",
       "    <tr>\n",
       "      <th>age_group</th>\n",
       "      <td>object</td>\n",
       "    </tr>\n",
       "    <tr>\n",
       "      <th>perp_sex</th>\n",
       "      <td>object</td>\n",
       "    </tr>\n",
       "    <tr>\n",
       "      <th>perp_race</th>\n",
       "      <td>object</td>\n",
       "    </tr>\n",
       "    <tr>\n",
       "      <th>x_coord_cd</th>\n",
       "      <td>int64</td>\n",
       "    </tr>\n",
       "    <tr>\n",
       "      <th>y_coord_cd</th>\n",
       "      <td>int64</td>\n",
       "    </tr>\n",
       "    <tr>\n",
       "      <th>latitude</th>\n",
       "      <td>float64</td>\n",
       "    </tr>\n",
       "    <tr>\n",
       "      <th>longitude</th>\n",
       "      <td>float64</td>\n",
       "    </tr>\n",
       "    <tr>\n",
       "      <th>new georeferenced column</th>\n",
       "      <td>object</td>\n",
       "    </tr>\n",
       "  </tbody>\n",
       "</table>\n",
       "</div>"
      ],
      "text/plain": [
       "                         Datatype\n",
       "Columns                          \n",
       "arrest_key                  int64\n",
       "arrest_date                object\n",
       "pd_cd                     float64\n",
       "pd_desc                    object\n",
       "ky_cd                     float64\n",
       "ofns_desc                  object\n",
       "law_code                   object\n",
       "law_cat_cd                 object\n",
       "arrest_boro                object\n",
       "arrest_precinct             int64\n",
       "jurisdiction_code           int64\n",
       "age_group                  object\n",
       "perp_sex                   object\n",
       "perp_race                  object\n",
       "x_coord_cd                  int64\n",
       "y_coord_cd                  int64\n",
       "latitude                  float64\n",
       "longitude                 float64\n",
       "new georeferenced column   object"
      ]
     },
     "execution_count": 16,
     "metadata": {},
     "output_type": "execute_result"
    }
   ],
   "source": [
    "pd.DataFrame(data.dtypes,columns=['Datatype']).rename_axis('Columns')"
   ]
  },
  {
   "cell_type": "code",
   "execution_count": 18,
   "id": "77f6cb22-6c3e-4157-9253-2b492ddfaab1",
   "metadata": {
    "tags": []
   },
   "outputs": [],
   "source": [
    "data['arrest_date'] = pd.to_datetime(data['arrest_date'], format='%m/%d/%Y')"
   ]
  },
  {
   "cell_type": "code",
   "execution_count": 19,
   "id": "4c7760a9-ed1e-4bb3-a93c-1da94f75c805",
   "metadata": {
    "tags": []
   },
   "outputs": [],
   "source": [
    "data['ky_cd'] = data['ky_cd'].apply(lambda x: str(int(x)))\n",
    "data['pd_cd'] = data['pd_cd'].apply(lambda x: str(int(x)))"
   ]
  },
  {
   "cell_type": "code",
   "execution_count": 20,
   "id": "03ca32b8-5557-4f15-9920-8c20c40999a5",
   "metadata": {
    "tags": []
   },
   "outputs": [],
   "source": [
    "def extract_law_code(x):\n",
    "    \"\"\"Function to get first letters of code ( Penal Law, VTL and other various local laws) and numerical code\n",
    "    Args:\n",
    "        x: str | LAW_CODE\n",
    "    \n",
    "    Returns:\n",
    "        fl, numcode: List() | fl - represents first letters | numcode - represents numerical code\n",
    "    \"\"\"\n",
    "    fl = ''\n",
    "    for i in range(len(x)):\n",
    "        if x[i].isalpha():\n",
    "            fl += x[i]\n",
    "        else:\n",
    "            numcode = x[i:].strip()\n",
    "            return [fl, numcode]\n",
    "\n",
    "law_code_splitted = np.array(data['law_code'].apply(extract_law_code).to_list())\n",
    "\n",
    "data['law_code_lt'] = law_code_splitted[:,0]\n",
    "data['law_code_cd'] = law_code_splitted[:,1]"
   ]
  },
  {
   "cell_type": "code",
   "execution_count": 21,
   "id": "d946645f-4d26-4ead-be35-ec5e39b7708c",
   "metadata": {
    "tags": []
   },
   "outputs": [],
   "source": [
    "pd.set_option('display.max_columns',25)"
   ]
  },
  {
   "cell_type": "markdown",
   "id": "da769b85-bf7b-4ad2-b2ab-ba0c4ec0e079",
   "metadata": {},
   "source": [
    "**law_cat_cd:** felony, misdemeanor, violation"
   ]
  },
  {
   "cell_type": "code",
   "execution_count": 22,
   "id": "dd1f042d-d08b-42ba-970a-b4ffa550e206",
   "metadata": {
    "tags": []
   },
   "outputs": [
    {
     "data": {
      "text/plain": [
       "array(['M', 'F', 'I', 'V', '9'], dtype=object)"
      ]
     },
     "execution_count": 22,
     "metadata": {},
     "output_type": "execute_result"
    }
   ],
   "source": [
    "data['law_cat_cd'].unique()"
   ]
  },
  {
   "cell_type": "code",
   "execution_count": 23,
   "id": "a82c63c3-1d09-40d3-b109-788c7d6a0738",
   "metadata": {
    "tags": []
   },
   "outputs": [
    {
     "data": {
      "text/plain": [
       "law_cat_cd\n",
       "M    62192\n",
       "F    48315\n",
       "V      624\n",
       "I      127\n",
       "9        1\n",
       "Name: count, dtype: int64"
      ]
     },
     "execution_count": 23,
     "metadata": {},
     "output_type": "execute_result"
    }
   ],
   "source": [
    "data['law_cat_cd'].value_counts()"
   ]
  },
  {
   "cell_type": "markdown",
   "id": "4d1d5655-34fc-49a5-9e17-3a779b966e7f",
   "metadata": {},
   "source": [
    "**Probably** `9` is a mistyping value and it's single, so let's consider it as `Misdemeanor`. There is no information about `I` in [pdf file](NYPD_Arrest_Incident_Level_Data_Footnotes.pdf), but I found some information on [research](https://ypdcrime.com/penal.law/offense_level.php), so let's condier it as `Infraction` or `Traffic Infraction`."
   ]
  },
  {
   "cell_type": "code",
   "execution_count": 24,
   "id": "20928e35-9748-4e9d-a8a6-28b965b11c59",
   "metadata": {
    "tags": []
   },
   "outputs": [],
   "source": [
    "data['law_cat_cd'] = data['law_cat_cd'].map({'F':'Felony','M':'Misdemeanor','V':'Violation', 'I': 'Infraction', '9':'Misdemeanor'})"
   ]
  },
  {
   "cell_type": "markdown",
   "id": "edca80cf-b52d-45d6-8108-c1ed0efa99c9",
   "metadata": {},
   "source": [
    "**arrest_boro:** B(Bronx), S(Staten Island), K(Brooklyn), M(Manhattan), Q(Queens)"
   ]
  },
  {
   "cell_type": "code",
   "execution_count": 25,
   "id": "aeb8b43c-42b0-4964-a9fc-249009ba3f7d",
   "metadata": {
    "tags": []
   },
   "outputs": [
    {
     "data": {
      "text/plain": [
       "array(['M', 'S', 'K', 'Q', 'B'], dtype=object)"
      ]
     },
     "execution_count": 25,
     "metadata": {},
     "output_type": "execute_result"
    }
   ],
   "source": [
    "data['arrest_boro'].unique()"
   ]
  },
  {
   "cell_type": "code",
   "execution_count": 26,
   "id": "193b04b4-c6f4-4ffb-b7e0-af2bf970da9c",
   "metadata": {
    "tags": []
   },
   "outputs": [
    {
     "data": {
      "text/plain": [
       "arrest_boro\n",
       "K    30962\n",
       "B    26529\n",
       "M    25425\n",
       "Q    23466\n",
       "S     4877\n",
       "Name: count, dtype: int64"
      ]
     },
     "execution_count": 26,
     "metadata": {},
     "output_type": "execute_result"
    }
   ],
   "source": [
    "data['arrest_boro'].value_counts()"
   ]
  },
  {
   "cell_type": "code",
   "execution_count": 27,
   "id": "7a175ba6-3f97-4310-978e-b0692c945545",
   "metadata": {
    "tags": []
   },
   "outputs": [],
   "source": [
    "data['arrest_boro'] = data['arrest_boro'].map({'B':'Bronx','S':'Staten Island','K':'Brooklyn','M':'Manhattan','Q':'Queens'})"
   ]
  },
  {
   "cell_type": "markdown",
   "id": "7c682073-67d9-461b-bbad-d0baf32b851b",
   "metadata": {},
   "source": [
    "**perp_sex:** M - Male, F - Female, U - Unisex"
   ]
  },
  {
   "cell_type": "code",
   "execution_count": 28,
   "id": "714d2738-9bce-4dcc-a9e4-93c8f82f9172",
   "metadata": {
    "tags": []
   },
   "outputs": [
    {
     "data": {
      "text/plain": [
       "array(['M', 'F', 'U'], dtype=object)"
      ]
     },
     "execution_count": 28,
     "metadata": {},
     "output_type": "execute_result"
    }
   ],
   "source": [
    "data['perp_sex'].unique()"
   ]
  },
  {
   "cell_type": "code",
   "execution_count": 29,
   "id": "dd64a171-640e-477e-8039-bb1b78f45149",
   "metadata": {
    "tags": []
   },
   "outputs": [
    {
     "data": {
      "text/plain": [
       "perp_sex\n",
       "M    89438\n",
       "F    18840\n",
       "U     2981\n",
       "Name: count, dtype: int64"
      ]
     },
     "execution_count": 29,
     "metadata": {},
     "output_type": "execute_result"
    }
   ],
   "source": [
    "data['perp_sex'].value_counts()"
   ]
  },
  {
   "cell_type": "code",
   "execution_count": 30,
   "id": "b9df639b-000e-4294-8279-4650739bddbb",
   "metadata": {
    "tags": []
   },
   "outputs": [],
   "source": [
    "data['perp_sex'] = data['perp_sex'].map({'M':'Male','F':'Female','U':'Unisex'})"
   ]
  },
  {
   "cell_type": "markdown",
   "id": "f047d44d-c8f8-4dbe-a72c-7a68b11bd58b",
   "metadata": {},
   "source": [
    "**law_code_lt**\n",
    "\n",
    "There is no information in [pdf file](NYPD_Arrest_Incident_Level_Data_Footnotes.pdf), but I made a research and found all the needed corresponding descriptions."
   ]
  },
  {
   "cell_type": "code",
   "execution_count": 31,
   "id": "e8aca073-49cb-45d4-9ac6-54b465a8f898",
   "metadata": {
    "tags": []
   },
   "outputs": [
    {
     "data": {
      "text/plain": [
       "array(['PL', 'TAX', 'VTL', 'ABC', 'LOC', 'AC', 'RR', 'COR', 'AM', 'TWN',\n",
       "       'PHL', 'PRL', 'GCI', 'GB', 'ACA', 'ED'], dtype=object)"
      ]
     },
     "execution_count": 31,
     "metadata": {},
     "output_type": "execute_result"
    }
   ],
   "source": [
    "data['law_code_lt'].unique()"
   ]
  },
  {
   "cell_type": "code",
   "execution_count": 32,
   "id": "d349db20-a987-4b7d-8e89-746911f08d1b",
   "metadata": {
    "tags": []
   },
   "outputs": [
    {
     "data": {
      "text/plain": [
       "law_code_lt\n",
       "PL     100572\n",
       "VTL      9750\n",
       "LOC       387\n",
       "TAX       105\n",
       "COR       104\n",
       "ABC        97\n",
       "AC         93\n",
       "RR         71\n",
       "AM         53\n",
       "PHL        10\n",
       "GCI        10\n",
       "PRL         3\n",
       "TWN         1\n",
       "GB          1\n",
       "ACA         1\n",
       "ED          1\n",
       "Name: count, dtype: int64"
      ]
     },
     "execution_count": 32,
     "metadata": {},
     "output_type": "execute_result"
    }
   ],
   "source": [
    "data['law_code_lt'].value_counts()"
   ]
  },
  {
   "cell_type": "code",
   "execution_count": 33,
   "id": "f3607e73-b53c-4753-b176-a25653eacd63",
   "metadata": {
    "tags": []
   },
   "outputs": [],
   "source": [
    "law_codes = {\n",
    "    'PL': 'Penal Law',\n",
    "    'PHL': 'Public Health Law',\n",
    "    'VTL': 'Vehicle and Traffic Law',\n",
    "    'LOC': 'Local Laws',\n",
    "    'AM': 'Alcoholic Beverage Control Law',\n",
    "    'TAX': 'Tax Law',\n",
    "    'RR': 'Real Property Tax Law',\n",
    "    'AC': 'Agriculture and Markets Law',\n",
    "    'ABC': 'Alcoholic Beverage Control Law',\n",
    "    'COR': 'Correction Law',\n",
    "    'GCI': 'General City Law',\n",
    "    'TWN': 'Town Law',\n",
    "    'PRL': 'Public Authorities Law',\n",
    "    'GB': 'General Business Law',\n",
    "    'ED': 'Education Law',\n",
    "    'ACA': 'Agriculture and Markets Law'\n",
    "}\n",
    "\n",
    "data['law_code_lt'] = data['law_code_lt'].map(law_codes)"
   ]
  },
  {
   "cell_type": "markdown",
   "id": "4059a887-0d99-4ed5-bb84-bfb42aecc951",
   "metadata": {},
   "source": [
    "## 4. Data Analysis + Visualization"
   ]
  },
  {
   "cell_type": "markdown",
   "id": "1041dd13-97bf-414c-9c8a-6e72e4bacb85",
   "metadata": {},
   "source": [
    "**Note:** If you have problems with color differences, you can change the palette colors to ones you are more comfortable with. In this project, I'm using **'rocket'** palette."
   ]
  },
  {
   "cell_type": "code",
   "execution_count": 148,
   "id": "d27e89c3-343c-4125-9195-cdfdcc40c260",
   "metadata": {
    "tags": []
   },
   "outputs": [],
   "source": [
    "PALETTE_FOR_CHARTS = 'rocket'"
   ]
  },
  {
   "cell_type": "code",
   "execution_count": 34,
   "id": "5b378a9c-7125-40b3-9f83-eed4c1c47d0a",
   "metadata": {},
   "outputs": [],
   "source": [
    "data.sort_values(by='arrest_date', inplace=True)"
   ]
  },
  {
   "cell_type": "code",
   "execution_count": 35,
   "id": "1b9f2820-7486-4384-a244-53604d762909",
   "metadata": {
    "tags": []
   },
   "outputs": [
    {
     "data": {
      "text/html": [
       "<div>\n",
       "<style scoped>\n",
       "    .dataframe tbody tr th:only-of-type {\n",
       "        vertical-align: middle;\n",
       "    }\n",
       "\n",
       "    .dataframe tbody tr th {\n",
       "        vertical-align: top;\n",
       "    }\n",
       "\n",
       "    .dataframe thead th {\n",
       "        text-align: right;\n",
       "    }\n",
       "</style>\n",
       "<table border=\"1\" class=\"dataframe\">\n",
       "  <thead>\n",
       "    <tr style=\"text-align: right;\">\n",
       "      <th></th>\n",
       "      <th>arrest_key</th>\n",
       "      <th>arrest_date</th>\n",
       "      <th>pd_cd</th>\n",
       "      <th>pd_desc</th>\n",
       "      <th>ky_cd</th>\n",
       "      <th>ofns_desc</th>\n",
       "      <th>law_code</th>\n",
       "      <th>law_cat_cd</th>\n",
       "      <th>arrest_boro</th>\n",
       "      <th>arrest_precinct</th>\n",
       "      <th>jurisdiction_code</th>\n",
       "      <th>age_group</th>\n",
       "      <th>perp_sex</th>\n",
       "      <th>perp_race</th>\n",
       "      <th>x_coord_cd</th>\n",
       "      <th>y_coord_cd</th>\n",
       "      <th>latitude</th>\n",
       "      <th>longitude</th>\n",
       "      <th>new georeferenced column</th>\n",
       "      <th>law_code_lt</th>\n",
       "      <th>law_code_cd</th>\n",
       "    </tr>\n",
       "  </thead>\n",
       "  <tbody>\n",
       "    <tr>\n",
       "      <th>count</th>\n",
       "      <td>1.112590e+05</td>\n",
       "      <td>111259</td>\n",
       "      <td>111259</td>\n",
       "      <td>111259</td>\n",
       "      <td>111259</td>\n",
       "      <td>111259</td>\n",
       "      <td>111259</td>\n",
       "      <td>111259</td>\n",
       "      <td>111259</td>\n",
       "      <td>111259.000000</td>\n",
       "      <td>111259.000000</td>\n",
       "      <td>111259</td>\n",
       "      <td>111259</td>\n",
       "      <td>111259</td>\n",
       "      <td>1.112590e+05</td>\n",
       "      <td>111259.000000</td>\n",
       "      <td>111259.000000</td>\n",
       "      <td>111259.000000</td>\n",
       "      <td>111259</td>\n",
       "      <td>111259</td>\n",
       "      <td>111259</td>\n",
       "    </tr>\n",
       "    <tr>\n",
       "      <th>unique</th>\n",
       "      <td>NaN</td>\n",
       "      <td>NaN</td>\n",
       "      <td>234</td>\n",
       "      <td>225</td>\n",
       "      <td>65</td>\n",
       "      <td>61</td>\n",
       "      <td>898</td>\n",
       "      <td>4</td>\n",
       "      <td>5</td>\n",
       "      <td>NaN</td>\n",
       "      <td>NaN</td>\n",
       "      <td>5</td>\n",
       "      <td>3</td>\n",
       "      <td>7</td>\n",
       "      <td>NaN</td>\n",
       "      <td>NaN</td>\n",
       "      <td>NaN</td>\n",
       "      <td>NaN</td>\n",
       "      <td>26858</td>\n",
       "      <td>14</td>\n",
       "      <td>889</td>\n",
       "    </tr>\n",
       "    <tr>\n",
       "      <th>top</th>\n",
       "      <td>NaN</td>\n",
       "      <td>NaN</td>\n",
       "      <td>101</td>\n",
       "      <td>ASSAULT 3</td>\n",
       "      <td>344</td>\n",
       "      <td>ASSAULT 3 &amp; RELATED OFFENSES</td>\n",
       "      <td>PL 1552500</td>\n",
       "      <td>Misdemeanor</td>\n",
       "      <td>Brooklyn</td>\n",
       "      <td>NaN</td>\n",
       "      <td>NaN</td>\n",
       "      <td>25-44</td>\n",
       "      <td>Male</td>\n",
       "      <td>BLACK</td>\n",
       "      <td>NaN</td>\n",
       "      <td>NaN</td>\n",
       "      <td>NaN</td>\n",
       "      <td>NaN</td>\n",
       "      <td>POINT (-73.881509 40.671404)</td>\n",
       "      <td>Penal Law</td>\n",
       "      <td>1552500</td>\n",
       "    </tr>\n",
       "    <tr>\n",
       "      <th>freq</th>\n",
       "      <td>NaN</td>\n",
       "      <td>NaN</td>\n",
       "      <td>12104</td>\n",
       "      <td>12104</td>\n",
       "      <td>16619</td>\n",
       "      <td>16619</td>\n",
       "      <td>12027</td>\n",
       "      <td>62193</td>\n",
       "      <td>30962</td>\n",
       "      <td>NaN</td>\n",
       "      <td>NaN</td>\n",
       "      <td>64044</td>\n",
       "      <td>89438</td>\n",
       "      <td>53617</td>\n",
       "      <td>NaN</td>\n",
       "      <td>NaN</td>\n",
       "      <td>NaN</td>\n",
       "      <td>NaN</td>\n",
       "      <td>764</td>\n",
       "      <td>100572</td>\n",
       "      <td>12027</td>\n",
       "    </tr>\n",
       "    <tr>\n",
       "      <th>mean</th>\n",
       "      <td>2.660431e+08</td>\n",
       "      <td>2023-04-02 05:16:55.004628736</td>\n",
       "      <td>NaN</td>\n",
       "      <td>NaN</td>\n",
       "      <td>NaN</td>\n",
       "      <td>NaN</td>\n",
       "      <td>NaN</td>\n",
       "      <td>NaN</td>\n",
       "      <td>NaN</td>\n",
       "      <td>63.553223</td>\n",
       "      <td>0.949370</td>\n",
       "      <td>NaN</td>\n",
       "      <td>NaN</td>\n",
       "      <td>NaN</td>\n",
       "      <td>1.005849e+06</td>\n",
       "      <td>208392.438032</td>\n",
       "      <td>40.738253</td>\n",
       "      <td>-73.921335</td>\n",
       "      <td>NaN</td>\n",
       "      <td>NaN</td>\n",
       "      <td>NaN</td>\n",
       "    </tr>\n",
       "    <tr>\n",
       "      <th>min</th>\n",
       "      <td>2.611809e+08</td>\n",
       "      <td>2023-01-01 00:00:00</td>\n",
       "      <td>NaN</td>\n",
       "      <td>NaN</td>\n",
       "      <td>NaN</td>\n",
       "      <td>NaN</td>\n",
       "      <td>NaN</td>\n",
       "      <td>NaN</td>\n",
       "      <td>NaN</td>\n",
       "      <td>1.000000</td>\n",
       "      <td>0.000000</td>\n",
       "      <td>NaN</td>\n",
       "      <td>NaN</td>\n",
       "      <td>NaN</td>\n",
       "      <td>0.000000e+00</td>\n",
       "      <td>0.000000</td>\n",
       "      <td>0.000000</td>\n",
       "      <td>-74.251844</td>\n",
       "      <td>NaN</td>\n",
       "      <td>NaN</td>\n",
       "      <td>NaN</td>\n",
       "    </tr>\n",
       "    <tr>\n",
       "      <th>25%</th>\n",
       "      <td>2.636690e+08</td>\n",
       "      <td>2023-02-15 00:00:00</td>\n",
       "      <td>NaN</td>\n",
       "      <td>NaN</td>\n",
       "      <td>NaN</td>\n",
       "      <td>NaN</td>\n",
       "      <td>NaN</td>\n",
       "      <td>NaN</td>\n",
       "      <td>NaN</td>\n",
       "      <td>40.000000</td>\n",
       "      <td>0.000000</td>\n",
       "      <td>NaN</td>\n",
       "      <td>NaN</td>\n",
       "      <td>NaN</td>\n",
       "      <td>9.916260e+05</td>\n",
       "      <td>185938.000000</td>\n",
       "      <td>40.676962</td>\n",
       "      <td>-73.973423</td>\n",
       "      <td>NaN</td>\n",
       "      <td>NaN</td>\n",
       "      <td>NaN</td>\n",
       "    </tr>\n",
       "    <tr>\n",
       "      <th>50%</th>\n",
       "      <td>2.661448e+08</td>\n",
       "      <td>2023-04-04 00:00:00</td>\n",
       "      <td>NaN</td>\n",
       "      <td>NaN</td>\n",
       "      <td>NaN</td>\n",
       "      <td>NaN</td>\n",
       "      <td>NaN</td>\n",
       "      <td>NaN</td>\n",
       "      <td>NaN</td>\n",
       "      <td>63.000000</td>\n",
       "      <td>0.000000</td>\n",
       "      <td>NaN</td>\n",
       "      <td>NaN</td>\n",
       "      <td>NaN</td>\n",
       "      <td>1.005665e+06</td>\n",
       "      <td>206800.000000</td>\n",
       "      <td>40.734200</td>\n",
       "      <td>-73.922707</td>\n",
       "      <td>NaN</td>\n",
       "      <td>NaN</td>\n",
       "      <td>NaN</td>\n",
       "    </tr>\n",
       "    <tr>\n",
       "      <th>75%</th>\n",
       "      <td>2.684548e+08</td>\n",
       "      <td>2023-05-18 00:00:00</td>\n",
       "      <td>NaN</td>\n",
       "      <td>NaN</td>\n",
       "      <td>NaN</td>\n",
       "      <td>NaN</td>\n",
       "      <td>NaN</td>\n",
       "      <td>NaN</td>\n",
       "      <td>NaN</td>\n",
       "      <td>100.000000</td>\n",
       "      <td>0.000000</td>\n",
       "      <td>NaN</td>\n",
       "      <td>NaN</td>\n",
       "      <td>NaN</td>\n",
       "      <td>1.017660e+06</td>\n",
       "      <td>236537.000000</td>\n",
       "      <td>40.815904</td>\n",
       "      <td>-73.879351</td>\n",
       "      <td>NaN</td>\n",
       "      <td>NaN</td>\n",
       "      <td>NaN</td>\n",
       "    </tr>\n",
       "    <tr>\n",
       "      <th>max</th>\n",
       "      <td>2.706613e+08</td>\n",
       "      <td>2023-06-30 00:00:00</td>\n",
       "      <td>NaN</td>\n",
       "      <td>NaN</td>\n",
       "      <td>NaN</td>\n",
       "      <td>NaN</td>\n",
       "      <td>NaN</td>\n",
       "      <td>NaN</td>\n",
       "      <td>NaN</td>\n",
       "      <td>123.000000</td>\n",
       "      <td>97.000000</td>\n",
       "      <td>NaN</td>\n",
       "      <td>NaN</td>\n",
       "      <td>NaN</td>\n",
       "      <td>1.066940e+06</td>\n",
       "      <td>271819.000000</td>\n",
       "      <td>40.912714</td>\n",
       "      <td>0.000000</td>\n",
       "      <td>NaN</td>\n",
       "      <td>NaN</td>\n",
       "      <td>NaN</td>\n",
       "    </tr>\n",
       "    <tr>\n",
       "      <th>std</th>\n",
       "      <td>2.754470e+06</td>\n",
       "      <td>NaN</td>\n",
       "      <td>NaN</td>\n",
       "      <td>NaN</td>\n",
       "      <td>NaN</td>\n",
       "      <td>NaN</td>\n",
       "      <td>NaN</td>\n",
       "      <td>NaN</td>\n",
       "      <td>NaN</td>\n",
       "      <td>34.397716</td>\n",
       "      <td>7.763351</td>\n",
       "      <td>NaN</td>\n",
       "      <td>NaN</td>\n",
       "      <td>NaN</td>\n",
       "      <td>2.154019e+04</td>\n",
       "      <td>29876.343276</td>\n",
       "      <td>0.147103</td>\n",
       "      <td>0.234588</td>\n",
       "      <td>NaN</td>\n",
       "      <td>NaN</td>\n",
       "      <td>NaN</td>\n",
       "    </tr>\n",
       "  </tbody>\n",
       "</table>\n",
       "</div>"
      ],
      "text/plain": [
       "          arrest_key                    arrest_date   pd_cd    pd_desc  \\\n",
       "count   1.112590e+05                         111259  111259     111259   \n",
       "unique           NaN                            NaN     234        225   \n",
       "top              NaN                            NaN     101  ASSAULT 3   \n",
       "freq             NaN                            NaN   12104      12104   \n",
       "mean    2.660431e+08  2023-04-02 05:16:55.004628736     NaN        NaN   \n",
       "min     2.611809e+08            2023-01-01 00:00:00     NaN        NaN   \n",
       "25%     2.636690e+08            2023-02-15 00:00:00     NaN        NaN   \n",
       "50%     2.661448e+08            2023-04-04 00:00:00     NaN        NaN   \n",
       "75%     2.684548e+08            2023-05-18 00:00:00     NaN        NaN   \n",
       "max     2.706613e+08            2023-06-30 00:00:00     NaN        NaN   \n",
       "std     2.754470e+06                            NaN     NaN        NaN   \n",
       "\n",
       "         ky_cd                     ofns_desc    law_code   law_cat_cd  \\\n",
       "count   111259                        111259      111259       111259   \n",
       "unique      65                            61         898            4   \n",
       "top        344  ASSAULT 3 & RELATED OFFENSES  PL 1552500  Misdemeanor   \n",
       "freq     16619                         16619       12027        62193   \n",
       "mean       NaN                           NaN         NaN          NaN   \n",
       "min        NaN                           NaN         NaN          NaN   \n",
       "25%        NaN                           NaN         NaN          NaN   \n",
       "50%        NaN                           NaN         NaN          NaN   \n",
       "75%        NaN                           NaN         NaN          NaN   \n",
       "max        NaN                           NaN         NaN          NaN   \n",
       "std        NaN                           NaN         NaN          NaN   \n",
       "\n",
       "       arrest_boro  arrest_precinct  jurisdiction_code age_group perp_sex  \\\n",
       "count       111259    111259.000000      111259.000000    111259   111259   \n",
       "unique           5              NaN                NaN         5        3   \n",
       "top       Brooklyn              NaN                NaN     25-44     Male   \n",
       "freq         30962              NaN                NaN     64044    89438   \n",
       "mean           NaN        63.553223           0.949370       NaN      NaN   \n",
       "min            NaN         1.000000           0.000000       NaN      NaN   \n",
       "25%            NaN        40.000000           0.000000       NaN      NaN   \n",
       "50%            NaN        63.000000           0.000000       NaN      NaN   \n",
       "75%            NaN       100.000000           0.000000       NaN      NaN   \n",
       "max            NaN       123.000000          97.000000       NaN      NaN   \n",
       "std            NaN        34.397716           7.763351       NaN      NaN   \n",
       "\n",
       "       perp_race    x_coord_cd     y_coord_cd       latitude      longitude  \\\n",
       "count     111259  1.112590e+05  111259.000000  111259.000000  111259.000000   \n",
       "unique         7           NaN            NaN            NaN            NaN   \n",
       "top        BLACK           NaN            NaN            NaN            NaN   \n",
       "freq       53617           NaN            NaN            NaN            NaN   \n",
       "mean         NaN  1.005849e+06  208392.438032      40.738253     -73.921335   \n",
       "min          NaN  0.000000e+00       0.000000       0.000000     -74.251844   \n",
       "25%          NaN  9.916260e+05  185938.000000      40.676962     -73.973423   \n",
       "50%          NaN  1.005665e+06  206800.000000      40.734200     -73.922707   \n",
       "75%          NaN  1.017660e+06  236537.000000      40.815904     -73.879351   \n",
       "max          NaN  1.066940e+06  271819.000000      40.912714       0.000000   \n",
       "std          NaN  2.154019e+04   29876.343276       0.147103       0.234588   \n",
       "\n",
       "            new georeferenced column law_code_lt law_code_cd  \n",
       "count                         111259      111259      111259  \n",
       "unique                         26858          14         889  \n",
       "top     POINT (-73.881509 40.671404)   Penal Law     1552500  \n",
       "freq                             764      100572       12027  \n",
       "mean                             NaN         NaN         NaN  \n",
       "min                              NaN         NaN         NaN  \n",
       "25%                              NaN         NaN         NaN  \n",
       "50%                              NaN         NaN         NaN  \n",
       "75%                              NaN         NaN         NaN  \n",
       "max                              NaN         NaN         NaN  \n",
       "std                              NaN         NaN         NaN  "
      ]
     },
     "execution_count": 35,
     "metadata": {},
     "output_type": "execute_result"
    }
   ],
   "source": [
    "data.describe(include='all')"
   ]
  },
  {
   "cell_type": "markdown",
   "id": "3485d2d4-9dc8-4335-b9b4-ae7e70418b9e",
   "metadata": {},
   "source": [
    "### Question 1: Which age group and gender has the most number of crimes?"
   ]
  },
  {
   "cell_type": "code",
   "execution_count": 36,
   "id": "632964c2-efd7-48ef-8b47-badcb1fffda4",
   "metadata": {
    "tags": []
   },
   "outputs": [
    {
     "data": {
      "text/plain": [
       "age_group\n",
       "25-44    64044\n",
       "45-64    21781\n",
       "18-24    19448\n",
       "<18       4241\n",
       "65+       1745\n",
       "Name: count, dtype: int64"
      ]
     },
     "execution_count": 36,
     "metadata": {},
     "output_type": "execute_result"
    }
   ],
   "source": [
    "data['age_group'].value_counts()"
   ]
  },
  {
   "cell_type": "code",
   "execution_count": 149,
   "id": "a8de720c-a508-4697-829d-1234c1958a21",
   "metadata": {
    "tags": []
   },
   "outputs": [
    {
     "data": {
      "image/png": "[encoded data removed]",
      "text/plain": [
       "<Figure size 1000x700 with 2 Axes>"
      ]
     },
     "metadata": {},
     "output_type": "display_data"
    }
   ],
   "source": [
    "sns.set()\n",
    "\n",
    "class_order = ['<18', '18-24', '25-44', '45-64', '65+']\n",
    "age_group_count = data[['age_group','perp_sex']].copy()\n",
    "\n",
    "plt.figure(figsize=(10,7))\n",
    "plt.subplot(1,2,1)\n",
    "hue_type = data['perp_sex'].dtype.type\n",
    "groups = data['age_group'].unique()\n",
    "proportions = data.groupby('age_group')['perp_sex'].value_counts(normalize=True)\n",
    "\n",
    "ax = sns.countplot(data=age_group_count,x='age_group', hue='perp_sex', palette=PALETTE_FOR_CHARTS, order=class_order)\n",
    "\n",
    "for c in ax.containers:\n",
    "    # c = [(x.xy[0]+0.01, x.xy[1]) for x in c]\n",
    "    labels = [f'{proportions.loc[g, hue_type(c.get_label())]*100:.1f}' for g in groups]\n",
    "\n",
    "    ax.bar_label(c, labels, label_type='edge', fontsize=8)\n",
    "\n",
    "plt.title('% of each age group')\n",
    "plt.xlabel('Age Group')\n",
    "plt.ylabel('Number of crimes')\n",
    "plt.legend(title='Gender')\n",
    "\n",
    "# --------------------------------------------------------------------\n",
    "\n",
    "plt.subplot(1,2,2)\n",
    "\n",
    "ax = sns.countplot(data=age_group_count,x='age_group', hue='perp_sex', palette=PALETTE_FOR_CHARTS, order=class_order)\n",
    "\n",
    "for c in ax.containers:\n",
    "    labels = [f'{h/data.perp_sex.count()*100:0.1f}' if (h := v.get_height()) > 0 else '' for v in c]\n",
    "    \n",
    "    ax.bar_label(c, labels=labels, label_type='edge', fontsize=8)\n",
    "\n",
    "plt.title('% of the whole data')\n",
    "plt.xlabel('Age Group')\n",
    "plt.ylabel('')\n",
    "plt.legend(title='Gender')\n",
    "\n",
    "\n",
    "plt.suptitle('Number of crimes for each age group and gender')\n",
    "plt.tight_layout()\n",
    "plt.show()"
   ]
  },
  {
   "cell_type": "markdown",
   "id": "d63e9fee-8f1e-487f-bf96-91d161688677",
   "metadata": {},
   "source": [
    "#### Analysis shows that age group and gender that has the most number of crimes is:\n",
    "* Age Group : 25-44\n",
    "* Gender : Male\n",
    "\n",
    "All the other groups are too far from this one.\n",
    "\n",
    "Depending only on age group, the top looks like this:\n",
    "1. `25-44` with `64044` crimes\n",
    "2. `45-64` with `21781` crimes\n",
    "3. `18-24` with `19448` crimes\n",
    "4. `<18` with `4241` crimes\n",
    "5. `65+` with `1745` crimes"
   ]
  },
  {
   "cell_type": "markdown",
   "id": "8f199054-241b-4226-b807-49b0ca84d9f1",
   "metadata": {},
   "source": [
    "### Question 2: What are the laws that are broken in most cases?"
   ]
  },
  {
   "cell_type": "code",
   "execution_count": 150,
   "id": "314c75a5-471a-4f1b-85af-d9ecdff22552",
   "metadata": {
    "tags": []
   },
   "outputs": [
    {
     "data": {
      "image/png": "[encoded data removed]",
      "text/plain": [
       "<Figure size 640x480 with 1 Axes>"
      ]
     },
     "metadata": {},
     "output_type": "display_data"
    }
   ],
   "source": [
    "class_order = data['ofns_desc'].value_counts().index[:10]\n",
    "\n",
    "top_10_broken_laws = data[data['ofns_desc'].isin(class_order)].copy()\n",
    "\n",
    "plt.figure()\n",
    "ax = sns.countplot(data=top_10_broken_laws, x='ofns_desc', palette=PALETTE_FOR_CHARTS, order=class_order)\n",
    "\n",
    "for c in ax.containers:\n",
    "    ax.bar_label(c)\n",
    "\n",
    "ax.set(yticklabels=[])\n",
    "plt.title('Top 10 broken laws')\n",
    "plt.xticks(rotation=45,fontsize=7, ha='right')\n",
    "plt.xlabel('Offense Description')\n",
    "plt.ylabel('Number of crimes')\n",
    "\n",
    "plt.tight_layout()\n",
    "plt.show()"
   ]
  },
  {
   "cell_type": "markdown",
   "id": "c0211e90-ab64-4e18-b5f3-e4c0a607ba2b",
   "metadata": {},
   "source": [
    "#### Analysis shows, that `ASSAULT 3 & RELATED OFFENSES` is the most common crime in this period.\n",
    "Starting at #3 in this top 10 in descending order we see the really tough crimes (in the most cases).\n",
    "\n",
    "1. `ASSAULT 3 & RELATED OFFENSES` (total of **16619** crimes)\n",
    "2. `PETIT LARCENY` (total of **12070** crimes)\n",
    "3. `FELONY ASSAULT` (total of **10474** crimes)\n",
    "4. `DANGEROUS DRUGS` (total of **7530** crimes)\n",
    "5. `MISCELLANEOUS PENAL LAW` (total of **7327** crimes)\n",
    "6. `VEHICLE AND TRAFFIC LAWS` (total of **6612** crimes)\n",
    "7. `CRIMINAL MISCHIEF & RELATED OF` (total of **5515** crimes)\n",
    "8. `ROBBERY` (total of **5368** crimes)\n",
    "9. `GRAND LARCENY` (total of **5074** crimes)\n",
    "10. `DANGEROUS WEAPONS` (total of **4639** crimes)\n"
   ]
  },
  {
   "cell_type": "markdown",
   "id": "0b0494ff-994f-4f1f-9470-8a3d11bc5a67",
   "metadata": {},
   "source": [
    "### Question 3: What are the 3 most frequent crimes by borough?"
   ]
  },
  {
   "cell_type": "code",
   "execution_count": 151,
   "id": "7c9b24b5-a094-4bfb-b0dc-481e6485c7ca",
   "metadata": {
    "tags": []
   },
   "outputs": [
    {
     "data": {
      "image/png": "[encoded data removed]",
      "text/plain": [
       "<Figure size 3000x500 with 5 Axes>"
      ]
     },
     "metadata": {},
     "output_type": "display_data"
    }
   ],
   "source": [
    "boro_crimes = data[['arrest_boro','ofns_desc', 'arrest_key']].copy()\n",
    "boro_crimes = boro_crimes.groupby(['arrest_boro','ofns_desc'])['arrest_key'].count().reset_index().sort_values(by='arrest_key', ascending=False)\n",
    "\n",
    "boro_crimes = boro_crimes.groupby('arrest_boro').head(3).sort_values(by='arrest_boro')\n",
    "\n",
    "boroughs = boro_crimes['arrest_boro'].unique()\n",
    "\n",
    "fig, axs = plt.subplots(1, boro_crimes.arrest_boro.nunique(), figsize=(30,5))\n",
    "\n",
    "for i, ax in enumerate(axs.ravel()):\n",
    "    temp_data = boro_crimes[boro_crimes['arrest_boro'] == boroughs[i]]\n",
    "    axx = sns.barplot(data=temp_data, x='arrest_boro', y='arrest_key', hue='ofns_desc', ax=ax, palette=PALETTE_FOR_CHARTS)\n",
    "    for j, p in enumerate(axx.patches):\n",
    "        axx.annotate(temp_data['ofns_desc'].to_list()[j], \n",
    "                      (p.get_x() + p.get_width() / 2., p.get_height()-temp_data['arrest_key'].max()*0.2), \n",
    "                      ha = 'center', va = 'center', \n",
    "                      xytext = (0, 9), \n",
    "                      textcoords = 'offset points',\n",
    "                      fontsize=8,\n",
    "                      backgroundcolor='r',\n",
    "                      color='w')\n",
    "    ax.set_title(f'3 most frequent crimes in {boroughs[i]}', fontsize=15)\n",
    "    ax.set_xlabel('')\n",
    "    ax.set_ylabel('Number of crimes')\n",
    "    ax.get_legend().remove()\n",
    "    \n",
    "    # ax.legend(title='Offence description', fontsize=8)"
   ]
  },
  {
   "cell_type": "markdown",
   "id": "c4315172-fc77-49e1-81ad-5c9efff47f2d",
   "metadata": {
    "jp-MarkdownHeadingCollapsed": true,
    "tags": []
   },
   "source": [
    "#### Analysis shows, that\n",
    "\n",
    "In the most regions, the most frequent crime is `ASSAULT 3 & RELATED OFFENSES`, except **Manhattan**, there is `PETIT LARCENY` at the first place.\n",
    "\n",
    "If we count violations of these laws as **not very dangerous**, then violations of laws such as: `Felony Assault`, `Dangerous drugs` and `Miscellaneous penal law` are.\n",
    "\n",
    "It means, that **Bronx**, **Brooklyn** and **Queens** are quite dangerous boroghs, depending only on `Felony Assault`, because it's the second highest crime rate there."
   ]
  },
  {
   "cell_type": "markdown",
   "id": "d8b6fcad-6d74-4924-99b9-02544038ef25",
   "metadata": {},
   "source": [
    "### Question 4: What are the general trends in the reported crimes between `2023-01-01` and `2023-06-30` monthly?"
   ]
  },
  {
   "cell_type": "markdown",
   "id": "7ca5ab3d-c327-4f08-bae3-0b39e0770f81",
   "metadata": {},
   "source": [
    "#### 4.1 What are the trends in the level of offense of reported crimes?"
   ]
  },
  {
   "cell_type": "code",
   "execution_count": 152,
   "id": "d0f37df7-9ef8-442d-b29a-b6155cc62f59",
   "metadata": {
    "tags": []
   },
   "outputs": [
    {
     "data": {
      "image/png": "[encoded data removed]",
      "text/plain": [
       "<Figure size 640x480 with 1 Axes>"
      ]
     },
     "metadata": {},
     "output_type": "display_data"
    }
   ],
   "source": [
    "trends_data = data.copy()\n",
    "\n",
    "trends_data['month'] = trends_data['arrest_date'].dt.month_name()\n",
    "\n",
    "sns.countplot(data=trends_data, x='month', hue='law_cat_cd', palette=PALETTE_FOR_CHARTS)\n",
    "plt.title('Distribution of crimes over the months', fontsize=15)\n",
    "plt.xlabel('Month')\n",
    "plt.ylabel('Number of crimes')\n",
    "\n",
    "legend = plt.legend(title='Level of offense', labelcolor = 'white', facecolor = 'black', loc=2, bbox_to_anchor=(1.05, 1), borderaxespad=0.)\n",
    "plt.setp(legend.get_title(), color='white')\n",
    "\n",
    "#plt.tight_layout()\n",
    "plt.show()"
   ]
  },
  {
   "cell_type": "markdown",
   "id": "fab8b1b6-2259-4c2c-b492-62883afd06aa",
   "metadata": {},
   "source": [
    "#### Analysis shows, that\n",
    "\n",
    "`Misdemeanor` is the most frequent crime all over the months, follows by `Felony`. `Infraction` and `Violation` are the most rare."
   ]
  },
  {
   "cell_type": "markdown",
   "id": "2ce1c1bd-fbcc-4f19-bcff-a69b048b5203",
   "metadata": {},
   "source": [
    "#### 4.2 Did crime rates increase or decrease?"
   ]
  },
  {
   "cell_type": "code",
   "execution_count": 153,
   "id": "b4d02da8-3f92-47fb-99c2-37ef23713dc2",
   "metadata": {
    "tags": []
   },
   "outputs": [
    {
     "data": {
      "image/png": "[encoded data removed]",
      "text/plain": [
       "<Figure size 640x480 with 1 Axes>"
      ]
     },
     "metadata": {},
     "output_type": "display_data"
    }
   ],
   "source": [
    "monthly_crimes = trends_data.groupby('month')['arrest_key'].count().reset_index()\n",
    "\n",
    "month_mapper = {month:i+1 for i, month in enumerate(trends_data.month.unique())}\n",
    "\n",
    "monthly_crimes['month_number'] = monthly_crimes['month'].map(month_mapper)\n",
    "\n",
    "sns.lineplot(data=monthly_crimes.sort_values(by='month_number'), x='month', y='arrest_key')\n",
    "\n",
    "plt.title('Trend of crime from 2023-01-01 to 2023-06-30', fontsize=15)\n",
    "plt.xlabel('Month')\n",
    "plt.ylabel('Number of crimes')\n",
    "\n",
    "plt.tight_layout()\n",
    "plt.show()"
   ]
  },
  {
   "cell_type": "markdown",
   "id": "aa40d72e-2638-482b-b1d4-1169f6e46fa6",
   "metadata": {},
   "source": [
    "#### Analysis shows, that\n",
    "\n",
    "Depending on this chart `Trend of crime from 2023-01-01 to 2023-06-30` we can clearly say, that for this period number of crimes increases. The biggest difference is between `January`, `February` and `March`, around **2.000** of crimes.\n",
    "\n",
    "Trend shows, that from month to month number of crimes decreases and increases, but in general it still rising. "
   ]
  },
  {
   "cell_type": "markdown",
   "id": "af6e4c3c-d308-47c4-9cc9-74a5d2c50b2e",
   "metadata": {},
   "source": [
    "### Question 5: On what days are a higher number of crimes reported and by who?"
   ]
  },
  {
   "cell_type": "code",
   "execution_count": 154,
   "id": "96b205a6-5d15-4756-a05c-abaa625fdf49",
   "metadata": {
    "tags": []
   },
   "outputs": [],
   "source": [
    "trends_data['day'] = trends_data['arrest_date'].dt.strftime('%a')"
   ]
  },
  {
   "cell_type": "code",
   "execution_count": 172,
   "id": "7957f23e-d9b2-4632-8c63-85632cbaf610",
   "metadata": {
    "tags": []
   },
   "outputs": [
    {
     "data": {
      "image/png": "[encoded data removed]",
      "text/plain": [
       "<Figure size 1000x700 with 2 Axes>"
      ]
     },
     "metadata": {},
     "output_type": "display_data"
    }
   ],
   "source": [
    "plt.figure(figsize=(10,7))\n",
    "plt.subplot(2,1,1)\n",
    "\n",
    "sns.countplot(data=trends_data, x='day', hue='perp_race', palette=PALETTE_FOR_CHARTS)\n",
    "\n",
    "plt.title('Distribution of crimes over the days', fontsize=15)\n",
    "plt.xlabel('')\n",
    "plt.ylabel('Number of crimes')\n",
    "\n",
    "legend = plt.legend(title='Race', labelcolor = 'white', facecolor = 'black', loc=2, bbox_to_anchor=(1.05, 1), borderaxespad=0.)\n",
    "plt.setp(legend.get_title(), color='white')\n",
    "\n",
    "# ----------------------------------------------------------------\n",
    "\n",
    "plt.subplot(2,1,2)\n",
    "sns.countplot(data=trends_data, x='day', palette='Spectral')\n",
    "\n",
    "plt.xlabel('Day')\n",
    "plt.ylabel('Number of crimes')\n",
    "\n",
    "plt.show()"
   ]
  },
  {
   "cell_type": "markdown",
   "id": "17e8ff9a-ddd8-4bd3-ae50-ab95b10d143a",
   "metadata": {},
   "source": [
    "#### Analysis shows, that\n",
    "\n",
    "The most number of crimes was made at `Wednesday`, following by `Thursday` and `Thuesday`. The closer you get to the center of the week, the more crime there is.\n",
    "\n",
    "Mostly, crimes was made by race: `BLACK`, following by `WHITE HISPANIC`. The least offenders among `ASIAN / PACIFIC ISLANDER` and `AMERICAN INDIAN/ALASKAN NATIVE`."
   ]
  },
  {
   "cell_type": "markdown",
   "id": "b329612d-bd26-460c-9afa-6ebdfcf1a3c6",
   "metadata": {},
   "source": [
    "## NYPD Arrest Data Final Results\n",
    "\n",
    "1. The top age group of crimes looks like this:\n",
    "    1. `25-44` with `64044` crimes\n",
    "    2. `45-64` with `21781` crimes\n",
    "    3. `18-24` with `19448` crimes\n",
    "    4. `<18` with `4241` crimes\n",
    "    5. `65+` with `1745` crimes\n",
    "2. Top 10 the most common violations:\n",
    "    1. `ASSAULT 3 & RELATED OFFENSES` (total of **16619** crimes)\n",
    "    2. `PETIT LARCENY` (total of **12070** crimes)\n",
    "    3. `FELONY ASSAULT` (total of **10474** crimes)\n",
    "    4. `DANGEROUS DRUGS` (total of **7530** crimes)\n",
    "    5. `MISCELLANEOUS PENAL LAW` (total of **7327** crimes)\n",
    "    6. `VEHICLE AND TRAFFIC LAWS` (total of **6612** crimes)\n",
    "    7. `CRIMINAL MISCHIEF & RELATED OF` (total of **5515** crimes)\n",
    "    8. `ROBBERY` (total of **5368** crimes)\n",
    "    9. `GRAND LARCENY` (total of **5074** crimes)\n",
    "    10. `DANGEROUS WEAPONS` (total of **4639** crimes)\n",
    "3. **Bronx**, **Brooklyn** and **Queens** are quite dangerous boroghs, depending only on `Felony Assault`\n",
    "\n",
    "    In the most regions, the most frequent crime is ASSAULT 3 & RELATED OFFENSES, except Manhattan, there is PETIT LARCENY at the first place.\n",
    "4. `Misdemeanor` is the most frequent crime all over the months, follows by `Felony`. `Infraction` and `Violation` are the most rare.\n",
    "\n",
    "    Trend shows, that from month to month number of crimes decreases and increases, but in general it still rising.\n",
    "5. The most number of crimes was made at `Wednesday`, following by `Thursday` and `Thuesday`.\n",
    "\n",
    "    Mostly, crimes was made by race: `BLACK`, following by `WHITE HISPANIC`."
   ]
  }
 ],
 "metadata": {
  "kernelspec": {
   "display_name": "Python 3 (ipykernel)",
   "language": "python",
   "name": "python3"
  },
  "language_info": {
   "codemirror_mode": {
    "name": "ipython",
    "version": 3
   },
   "file_extension": ".py",
   "mimetype": "text/x-python",
   "name": "python",
   "nbconvert_exporter": "python",
   "pygments_lexer": "ipython3",
   "version": "3.10.5"
  }
 },
 "nbformat": 4,
 "nbformat_minor": 5
}
